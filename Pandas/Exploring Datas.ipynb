{
 "cells": [
  {
   "cell_type": "code",
   "execution_count": 1,
   "id": "4891bd3a-4c33-4e79-8d71-9e16c51a60a7",
   "metadata": {},
   "outputs": [
    {
     "name": "stdout",
     "output_type": "stream",
     "text": [
      "   S.N     NAME  SALARY       PHONE\n",
      "0    1    Bimal   50000  9837473647\n",
      "1    2   Sedeep    5000  9842259391\n",
      "2    3    samir   40000  9847045135\n",
      "3    4    kisna   50090  9851830879\n",
      "4    5  haraman   34560  9856616623\n",
      "5    6  ranjeet   36805  9861402367\n",
      "6    7   subash  100000  9866188111\n",
      "7    8   bikash  120000  9870973855\n",
      "8    9  niramla   30000  9875759599\n"
     ]
    }
   ],
   "source": [
    "import pandas as pd # type: ignore\n",
    "data=pd.read_excel('Book1.xlsx')\n",
    "print(data)"
   ]
  },
  {
   "cell_type": "code",
   "execution_count": 3,
   "id": "4c0430b0-17b8-4b41-9eb9-deca464b5a4e",
   "metadata": {},
   "outputs": [
    {
     "name": "stdout",
     "output_type": "stream",
     "text": [
      "<class 'pandas.core.frame.DataFrame'>\n",
      "RangeIndex: 9 entries, 0 to 8\n",
      "Data columns (total 4 columns):\n",
      " #   Column  Non-Null Count  Dtype \n",
      "---  ------  --------------  ----- \n",
      " 0   S.N     9 non-null      int64 \n",
      " 1   NAME    9 non-null      object\n",
      " 2   SALARY  9 non-null      int64 \n",
      " 3   PHONE   9 non-null      int64 \n",
      "dtypes: int64(3), object(1)\n",
      "memory usage: 420.0+ bytes\n",
      "None\n"
     ]
    }
   ],
   "source": [
    "#Helps to know information about given data\n",
    "print(data.info())"
   ]
  },
  {
   "cell_type": "code",
   "execution_count": 4,
   "id": "34dbde82-77f0-4f27-b55b-e95ea7b425c3",
   "metadata": {},
   "outputs": [
    {
     "data": {
      "text/html": [
       "<div>\n",
       "<style scoped>\n",
       "    .dataframe tbody tr th:only-of-type {\n",
       "        vertical-align: middle;\n",
       "    }\n",
       "\n",
       "    .dataframe tbody tr th {\n",
       "        vertical-align: top;\n",
       "    }\n",
       "\n",
       "    .dataframe thead th {\n",
       "        text-align: right;\n",
       "    }\n",
       "</style>\n",
       "<table border=\"1\" class=\"dataframe\">\n",
       "  <thead>\n",
       "    <tr style=\"text-align: right;\">\n",
       "      <th></th>\n",
       "      <th>S.N</th>\n",
       "      <th>SALARY</th>\n",
       "      <th>PHONE</th>\n",
       "    </tr>\n",
       "  </thead>\n",
       "  <tbody>\n",
       "    <tr>\n",
       "      <th>count</th>\n",
       "      <td>9.000000</td>\n",
       "      <td>9.000000</td>\n",
       "      <td>9.000000e+00</td>\n",
       "    </tr>\n",
       "    <tr>\n",
       "      <th>mean</th>\n",
       "      <td>5.000000</td>\n",
       "      <td>51828.333333</td>\n",
       "      <td>9.856617e+09</td>\n",
       "    </tr>\n",
       "    <tr>\n",
       "      <th>std</th>\n",
       "      <td>2.738613</td>\n",
       "      <td>35894.680142</td>\n",
       "      <td>1.310630e+07</td>\n",
       "    </tr>\n",
       "    <tr>\n",
       "      <th>min</th>\n",
       "      <td>1.000000</td>\n",
       "      <td>5000.000000</td>\n",
       "      <td>9.837474e+09</td>\n",
       "    </tr>\n",
       "    <tr>\n",
       "      <th>25%</th>\n",
       "      <td>3.000000</td>\n",
       "      <td>34560.000000</td>\n",
       "      <td>9.847045e+09</td>\n",
       "    </tr>\n",
       "    <tr>\n",
       "      <th>50%</th>\n",
       "      <td>5.000000</td>\n",
       "      <td>40000.000000</td>\n",
       "      <td>9.856617e+09</td>\n",
       "    </tr>\n",
       "    <tr>\n",
       "      <th>75%</th>\n",
       "      <td>7.000000</td>\n",
       "      <td>50090.000000</td>\n",
       "      <td>9.866188e+09</td>\n",
       "    </tr>\n",
       "    <tr>\n",
       "      <th>max</th>\n",
       "      <td>9.000000</td>\n",
       "      <td>120000.000000</td>\n",
       "      <td>9.875760e+09</td>\n",
       "    </tr>\n",
       "  </tbody>\n",
       "</table>\n",
       "</div>"
      ],
      "text/plain": [
       "            S.N         SALARY         PHONE\n",
       "count  9.000000       9.000000  9.000000e+00\n",
       "mean   5.000000   51828.333333  9.856617e+09\n",
       "std    2.738613   35894.680142  1.310630e+07\n",
       "min    1.000000    5000.000000  9.837474e+09\n",
       "25%    3.000000   34560.000000  9.847045e+09\n",
       "50%    5.000000   40000.000000  9.856617e+09\n",
       "75%    7.000000   50090.000000  9.866188e+09\n",
       "max    9.000000  120000.000000  9.875760e+09"
      ]
     },
     "execution_count": 4,
     "metadata": {},
     "output_type": "execute_result"
    }
   ],
   "source": [
    "data.describe()"
   ]
  },
  {
   "cell_type": "code",
   "execution_count": 5,
   "id": "6a9b6912-c76c-4801-a04a-cdcadb6a50fe",
   "metadata": {},
   "outputs": [
    {
     "name": "stdout",
     "output_type": "stream",
     "text": [
      "     S.N   NAME  SALARY  PHONE\n",
      "0  False  False   False  False\n",
      "1  False  False   False  False\n",
      "2  False  False   False  False\n",
      "3  False  False   False  False\n",
      "4  False  False   False  False\n",
      "5  False  False   False  False\n",
      "6  False  False   False  False\n",
      "7  False  False   False  False\n",
      "8  False  False   False  False\n"
     ]
    }
   ],
   "source": [
    "#Checks wheather the data is null or not\n",
    "print(data.isnull())"
   ]
  },
  {
   "cell_type": "code",
   "execution_count": 6,
   "id": "8339d75b-c811-4098-8af6-2369b128594a",
   "metadata": {},
   "outputs": [
    {
     "name": "stdout",
     "output_type": "stream",
     "text": [
      "S.N       0\n",
      "NAME      0\n",
      "SALARY    0\n",
      "PHONE     0\n",
      "dtype: int64\n"
     ]
    }
   ],
   "source": [
    "print(data.isnull().sum())"
   ]
  }
 ],
 "metadata": {
  "kernelspec": {
   "display_name": "Python 3 (ipykernel)",
   "language": "python",
   "name": "python3"
  },
  "language_info": {
   "codemirror_mode": {
    "name": "ipython",
    "version": 3
   },
   "file_extension": ".py",
   "mimetype": "text/x-python",
   "name": "python",
   "nbconvert_exporter": "python",
   "pygments_lexer": "ipython3",
   "version": "3.12.4"
  }
 },
 "nbformat": 4,
 "nbformat_minor": 5
}
