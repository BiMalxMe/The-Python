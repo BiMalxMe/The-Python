{
 "cells": [
  {
   "cell_type": "code",
   "execution_count": 1,
   "id": "a62e13b1-ccbf-4556-bb51-21d324a1a3dd",
   "metadata": {},
   "outputs": [],
   "source": [
    "import pandas as pd # type: ignore\n",
    "data=pd.read_excel('name2.xlsx')\n",
    "print(data)"
   ]
  },
  {
   "cell_type": "code",
   "execution_count": null,
   "id": "9c3690d9-4927-4d6b-9e88-a8093a8d7cb1",
   "metadata": {},
   "outputs": [
    {
     "name": "stdout",
     "output_type": "stream",
     "text": [
      "     Fname     Lname  salary emp id    Bonus\n",
      "0     hari  parajuli   40000   Emp1   8000.0\n",
      "1    seeta   chalise   50000   Emp2  10000.0\n",
      "2  balaram    sharma   34000   Emp3   6800.0\n",
      "3    aurag  srinivas   27000   Emp4   5400.0\n"
     ]
    }
   ],
   "source": [
    "#Making a new colum 'Bonus' for storing the 20% from the salary\n",
    "data['Bonus']=data['salary']*0.20\n",
    "print(data)"
   ]
  },
  {
   "cell_type": "code",
   "execution_count": 44,
   "id": "11f00a1d-6ac6-4f0f-871e-893b20a98afa",
   "metadata": {},
   "outputs": [
    {
     "name": "stdout",
     "output_type": "stream",
     "text": [
      "     Months\n",
      "0   January\n",
      "1  february\n",
      "2     March\n",
      "3     April\n",
      "\n",
      "     Months short_month\n",
      "0   January         Jan\n",
      "1  february         feb\n",
      "2     March         Mar\n",
      "3     April         Apr\n"
     ]
    }
   ],
   "source": [
    "#creaing a new data xxx\n",
    "data={'Months':['January','february','March','April']}\n",
    "dat=pd.DataFrame(data)\n",
    "print(dat)\n",
    "print()\n",
    "#It is in a Dataseries\n",
    "#Making it a Dataframe by adding another column named short-mon\n",
    "# where we store the first three letter of the month\n",
    "def extract(value):\n",
    "    return value[0:3]\n",
    "\n",
    "dat['short_month']=dat['Months'].map(extract)\n",
    "print(dat)\n",
    "\n",
    "#understanding .map funtion\n",
    "#it send each value of Month to extract function which will return\n",
    "#            first three letters of the Months"
   ]
  }
 ],
 "metadata": {
  "kernelspec": {
   "display_name": "Python 3 (ipykernel)",
   "language": "python",
   "name": "python3"
  },
  "language_info": {
   "codemirror_mode": {
    "name": "ipython",
    "version": 3
   },
   "file_extension": ".py",
   "mimetype": "text/x-python",
   "name": "python",
   "nbconvert_exporter": "python",
   "pygments_lexer": "ipython3",
   "version": "3.11.9"
  }
 },
 "nbformat": 4,
 "nbformat_minor": 5
}
