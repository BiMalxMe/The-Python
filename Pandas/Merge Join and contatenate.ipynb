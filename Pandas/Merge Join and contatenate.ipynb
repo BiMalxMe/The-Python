{
 "cells": [
  {
   "cell_type": "code",
   "execution_count": 14,
   "id": "92297e85-5a3f-4800-b8cc-29a14e8a7afe",
   "metadata": {},
   "outputs": [
    {
     "name": "stdout",
     "output_type": "stream",
     "text": [
      "  Emp id    Name  Age\n",
      "0    EO1     Ram   33\n",
      "1    EO2   Shyam   56\n",
      "2    EO3   Rahul   67\n",
      "3    EO4  Vishal   33\n",
      "4    EO5    Ravi   97\n",
      "5    EO6    John   34\n",
      "\n",
      "  Emp id  Salary\n",
      "0    EO1   45000\n",
      "1    EO2   56000\n",
      "2    EO3   32000\n",
      "3    EO4   14000\n",
      "4    EO5   90000\n",
      "5    EO6  190000\n"
     ]
    }
   ],
   "source": [
    "import pandas as pd\n",
    "data1={\"Emp id\":[\"EO1\",\"EO2\",\"EO3\",\"EO4\",\"EO5\",\"EO6\"],\n",
    "      \"Name\":['Ram','Shyam','Rahul',\"Vishal\",\"Ravi\",'John'],\n",
    "      \"Age\":[33,56,67,33,97,34]}\n",
    "data2={\"Emp id\":[\"EO1\",\"EO2\",\"EO3\",\"EO4\",\"EO5\",\"EO6\"],\n",
    "      'Salary':[45000,56000,32000,14000,90000,190000]\n",
    "      }\n",
    "df11=pd.DataFrame(data1)\n",
    "print(df11)\n",
    "print()\n",
    "df22=pd.DataFrame(data2)\n",
    "print(df22)"
   ]
  },
  {
   "cell_type": "code",
   "execution_count": 15,
   "id": "34a36f6d-0b62-412d-8fee-d3062f98d480",
   "metadata": {},
   "outputs": [
    {
     "name": "stdout",
     "output_type": "stream",
     "text": [
      "  Emp id    Name  Age  Salary\n",
      "0    EO1     Ram   33   45000\n",
      "1    EO2   Shyam   56   56000\n",
      "2    EO3   Rahul   67   32000\n",
      "3    EO4  Vishal   33   14000\n",
      "4    EO5    Ravi   97   90000\n",
      "5    EO6    John   34  190000\n"
     ]
    }
   ],
   "source": [
    "#Merging Twu Data frame\n",
    "print(pd.merge(df11,df22))\n",
    "#Helps to merge the data cells using the merge function"
   ]
  },
  {
   "cell_type": "code",
   "execution_count": 9,
   "id": "30ed9f78-5337-4dc8-be84-674f368e7ada",
   "metadata": {},
   "outputs": [
    {
     "name": "stdout",
     "output_type": "stream",
     "text": [
      "\n",
      "  Emp id    Name  Age  Salary\n",
      "0    EO1     Ram   33   45000\n",
      "1    EO3   Rahul   67   32000\n",
      "2    EO4  Vishal   33   14000\n",
      "3    EO6    John   34  190000\n",
      "\n",
      "  Emp id    Name  Age    Salary\n",
      "0    EO1     Ram   33   45000.0\n",
      "1    EO2   Shyam   56       NaN\n",
      "2    EO3   Rahul   67   32000.0\n",
      "3    EO4  Vishal   33   14000.0\n",
      "4    EO9    Ravi   97       NaN\n",
      "5    EO6    John   34  190000.0\n"
     ]
    }
   ],
   "source": [
    "#WHat it data are very messy\n",
    "\n",
    "#Here EO9 is there in d1 but is missingin d2\n",
    "#By Printing those we might get an uneven results\n",
    "\n",
    "d1={\"Emp id\":[\"EO1\",\"EO2\",\"EO3\",\"EO4\",\"EO9\",\"EO6\"],\n",
    "      \"Name\":['Ram','Shyam','Rahul',\"Vishal\",\"Ravi\",'John'],\n",
    "      \"Age\":[33,56,67,33,97,34]}\n",
    "d2={\"Emp id\":[\"EO1\",\"EO8\",\"EO3\",\"EO4\",\"EO5\",\"EO6\"],\n",
    "      'Salary':[45000,56000,32000,14000,90000,190000]\n",
    "      }\n",
    "df1=pd.DataFrame(d1)\n",
    "print()\n",
    "df2=pd.DataFrame(d2)\n",
    "\n",
    "\n",
    "#Printing the datas\n",
    "#Selects only those datas having the same emp is in both d1 and d2\n",
    "print(pd.merge(df1,df2))\n",
    "print()\n",
    "#But printing all od the data based on df1's EmpId\n",
    "print(pd.merge(df1,df2,how='left'))\n",
    "\n",
    "#EO1 has no link with salary so it prints NUll"
   ]
  },
  {
   "cell_type": "code",
   "execution_count": 12,
   "id": "60132e0d-59a3-48ef-b0e7-b08cc2fba5ed",
   "metadata": {},
   "outputs": [
    {
     "name": "stdout",
     "output_type": "stream",
     "text": [
      "  Emp id    Name   Age  Salary\n",
      "0    EO1     Ram  33.0   45000\n",
      "1    EO8     NaN   NaN   56000\n",
      "2    EO3   Rahul  67.0   32000\n",
      "3    EO4  Vishal  33.0   14000\n",
      "4    EO5     NaN   NaN   90000\n",
      "5    EO6    John  34.0  190000\n"
     ]
    }
   ],
   "source": [
    "#But printing all od the data based on df2's EmpId\n",
    "print(pd.merge(df1,df2,how='right'))\n",
    "#Prints data whih are in df2 linked in df1\n",
    "#EO8,EO8 has no link with df1 name and age so it prints NUll"
   ]
  },
  {
   "cell_type": "code",
   "execution_count": null,
   "id": "84bf6626-07a8-44fc-a742-f6792ece91af",
   "metadata": {},
   "outputs": [],
   "source": [
    "#Small Note:\n",
    "#Right and left in above conditions shows\n",
    "#.merge(x,y)\n",
    "#how=\"left\" indicates x components element linked with y elements/data\n",
    "\n",
    "#how=\"right\" indicates y components element linked with x elements/data"
   ]
  },
  {
   "cell_type": "code",
   "execution_count": 87,
   "id": "64148712-8504-4988-aa27-5d769216d6ca",
   "metadata": {},
   "outputs": [],
   "source": [
    "#new\n",
    "value1={\"Emp id\":[\"EO1\",\"EO2\",\"EO3\",\"EO4\",\"EO5\",\"EO6\"],\n",
    "      \"Name\":['Ram','Shyam','Rahul',\"Vishal\",\"Ravi\",'John'],\n",
    "      \"Age\":[33,56,67,33,97,34]}\n",
    "value2={\"Emp id\":[\"EO7\",\"EO7\",\"EO9\",\"EO10\",\"EO11\",\"EO12\"],\n",
    "      \"Name\":['Rahul','shambhav','Sharthak',\"Darshan\",\"Biplove\",'Fardeem'],\n",
    "      \"Age\":[33,56,67,33,97,34]}\n",
    "val1=pd.DataFrame(value1)\n",
    "val2=pd.DataFrame(value2)"
   ]
  },
  {
   "cell_type": "code",
   "execution_count": 86,
   "id": "8c502d9e-0c1b-4305-a97b-621cdd331dff",
   "metadata": {},
   "outputs": [
    {
     "name": "stdout",
     "output_type": "stream",
     "text": [
      "  Emp id      Name  Age\n",
      "0    EO1       Ram   33\n",
      "1    EO2     Shyam   56\n",
      "2    EO3     Rahul   67\n",
      "3    EO4    Vishal   33\n",
      "4    EO5      Ravi   97\n",
      "5    EO6      John   34\n",
      "0    EO7     Rahul   33\n",
      "1    EO7  shambhav   56\n",
      "2    EO9  Sharthak   67\n",
      "3   EO10   Darshan   33\n",
      "4   EO11   Biplove   97\n",
      "5   EO12   Fardeem   34\n"
     ]
    }
   ],
   "source": [
    "print(pd.concat([val1,val2]))"
   ]
  },
  {
   "cell_type": "code",
   "execution_count": null,
   "id": "824b49e4-9997-4cb0-84c4-99d5f652b4a4",
   "metadata": {},
   "outputs": [],
   "source": []
  }
 ],
 "metadata": {
  "kernelspec": {
   "display_name": "Python 3 (ipykernel)",
   "language": "python",
   "name": "python3"
  },
  "language_info": {
   "codemirror_mode": {
    "name": "ipython",
    "version": 3
   },
   "file_extension": ".py",
   "mimetype": "text/x-python",
   "name": "python",
   "nbconvert_exporter": "python",
   "pygments_lexer": "ipython3",
   "version": "3.12.4"
  }
 },
 "nbformat": 4,
 "nbformat_minor": 5
}
