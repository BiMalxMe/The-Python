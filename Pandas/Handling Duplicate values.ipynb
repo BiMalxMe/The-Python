{
 "cells": [
  {
   "cell_type": "code",
   "execution_count": 2,
   "id": "67539bd0-f6ab-43e4-8c4e-9aac047c88eb",
   "metadata": {},
   "outputs": [
    {
     "name": "stdout",
     "output_type": "stream",
     "text": [
      "   S.N     NAME    SALARY         PHONE\n",
      "0    1    Bimal   50000.0  9.800000e+09\n",
      "1    2   Sedeep    5000.0  9.804786e+09\n",
      "2    3    samir   40000.0           NaN\n",
      "3    4    kisna   50090.0  4.785744e+06\n",
      "4    5    BImal       NaN  9.571488e+06\n",
      "5    6  ranjeet   36805.0  1.435723e+07\n",
      "6    7   subash  100000.0  1.914298e+07\n",
      "7    8    Bimal  120000.0  9.800000e+09\n",
      "8    9  niramla   30000.0  9.804786e+09\n"
     ]
    }
   ],
   "source": [
    "import pandas as pd\n",
    "data=pd.read_excel('Dup.xlsx')\n",
    "print(data)"
   ]
  },
  {
   "cell_type": "code",
   "execution_count": 7,
   "id": "08a50499-7154-477c-ac34-31c592a61091",
   "metadata": {},
   "outputs": [
    {
     "name": "stdout",
     "output_type": "stream",
     "text": [
      "0    False\n",
      "1    False\n",
      "2    False\n",
      "3    False\n",
      "4    False\n",
      "5    False\n",
      "6    False\n",
      "7     True\n",
      "8    False\n",
      "Name: NAME, dtype: bool\n"
     ]
    }
   ],
   "source": [
    "#checks wheather any value is repeated in given data\n",
    "print(data[\"NAME\"].duplicated())"
   ]
  },
  {
   "cell_type": "code",
   "execution_count": 8,
   "id": "fa35d9bd-2a40-4caf-9366-8a3fe6dee450",
   "metadata": {},
   "outputs": [
    {
     "name": "stdout",
     "output_type": "stream",
     "text": [
      "1\n"
     ]
    }
   ],
   "source": [
    "print(data[\"NAME\"].duplicated().sum())\n",
    "#There is only one duplicated value"
   ]
  },
  {
   "cell_type": "code",
   "execution_count": null,
   "id": "62d0f4f7-42df-4936-ba84-1e9d8ce81819",
   "metadata": {},
   "outputs": [],
   "source": [
    "#Mainly we shouldnot check wheather name and other are repeated\n",
    "# rather we should if the unique keys or id's are repeated or not "
   ]
  },
  {
   "cell_type": "code",
   "execution_count": 11,
   "id": "59aa5ce8-7530-4e2b-992c-cfac071a9567",
   "metadata": {},
   "outputs": [
    {
     "name": "stdout",
     "output_type": "stream",
     "text": [
      "   S.N     NAME    SALARY         PHONE\n",
      "0    1    Bimal   50000.0  9.800000e+09\n",
      "1    2   Sedeep    5000.0  9.804786e+09\n",
      "2    3    samir   40000.0           NaN\n",
      "3    4    kisna   50090.0  4.785744e+06\n",
      "4    5    BImal       NaN  9.571488e+06\n",
      "5    6  ranjeet   36805.0  1.435723e+07\n",
      "6    7   subash  100000.0  1.914298e+07\n"
     ]
    }
   ],
   "source": [
    "#Removes the repeated values or datas\n",
    "print(data.drop_duplicates([\"PHONE\"]))"
   ]
  }
 ],
 "metadata": {
  "kernelspec": {
   "display_name": "Python 3 (ipykernel)",
   "language": "python",
   "name": "python3"
  },
  "language_info": {
   "codemirror_mode": {
    "name": "ipython",
    "version": 3
   },
   "file_extension": ".py",
   "mimetype": "text/x-python",
   "name": "python",
   "nbconvert_exporter": "python",
   "pygments_lexer": "ipython3",
   "version": "3.12.4"
  }
 },
 "nbformat": 4,
 "nbformat_minor": 5
}
