{
 "cells": [
  {
   "cell_type": "code",
   "execution_count": 1,
   "id": "1a9382c7-c3f8-4827-be01-b01500d0b666",
   "metadata": {},
   "outputs": [
    {
     "name": "stdout",
     "output_type": "stream",
     "text": [
      "   S.N     NAME    SALARY         PHONE\n",
      "0    1    Bimal   50000.0  9.800000e+09\n",
      "1    2   Sedeep    5000.0  9.804786e+09\n",
      "2    3    samir   40000.0           NaN\n",
      "3    4    kisna   50090.0  4.785744e+06\n",
      "4    5    BImal       NaN  9.571488e+06\n",
      "5    6  ranjeet   36805.0  1.435723e+07\n",
      "6    7   subash  100000.0  1.914298e+07\n",
      "7    8    Bimal  120000.0  9.800000e+09\n",
      "8    9  niramla   30000.0  9.804786e+09\n"
     ]
    }
   ],
   "source": [
    "import pandas as pd # type: ignore\n",
    "data=pd.read_excel('Dup.xlsx')\n",
    "print(data)"
   ]
  },
  {
   "cell_type": "code",
   "execution_count": 3,
   "id": "8b426b54-c997-4bfb-bd86-11de48530e48",
   "metadata": {},
   "outputs": [
    {
     "name": "stdout",
     "output_type": "stream",
     "text": [
      "S.N       0\n",
      "NAME      0\n",
      "SALARY    1\n",
      "PHONE     1\n",
      "dtype: int64\n"
     ]
    }
   ],
   "source": [
    "print(data.isnull().sum())"
   ]
  },
  {
   "cell_type": "code",
   "execution_count": 8,
   "id": "60b21fc9-c339-4e0f-b1fe-997348cebf6e",
   "metadata": {},
   "outputs": [],
   "source": [
    "#Deletes the row having any Null value\n",
    "# print(data.dropna())"
   ]
  },
  {
   "cell_type": "code",
   "execution_count": 1,
   "id": "1a0fa68b-2183-4262-ae06-6c3320709b25",
   "metadata": {},
   "outputs": [
    {
     "ename": "NameError",
     "evalue": "name 'data' is not defined",
     "output_type": "error",
     "traceback": [
      "\u001b[1;31m---------------------------------------------------------------------------\u001b[0m",
      "\u001b[1;31mNameError\u001b[0m                                 Traceback (most recent call last)",
      "Cell \u001b[1;32mIn[1], line 4\u001b[0m\n\u001b[0;32m      2\u001b[0m \u001b[38;5;28;01mimport\u001b[39;00m \u001b[38;5;21;01mnumpy\u001b[39;00m \u001b[38;5;28;01mas\u001b[39;00m \u001b[38;5;21;01mnp\u001b[39;00m\n\u001b[0;32m      3\u001b[0m \u001b[38;5;66;03m# print(data.replace(np.nan,\"IAmNull\"))\u001b[39;00m\n\u001b[1;32m----> 4\u001b[0m \u001b[38;5;28mprint\u001b[39m(\u001b[43mdata\u001b[49m)\n",
      "\u001b[1;31mNameError\u001b[0m: name 'data' is not defined"
     ]
    }
   ],
   "source": [
    "#replacing the null values\n",
    "import numpy as np\n",
    "# print(data.replace(np.nan,\"IAmNull\"))\n",
    "print(data)"
   ]
  },
  {
   "cell_type": "code",
   "execution_count": 20,
   "id": "f395a42b-b933-48b8-bde3-1bafa4ff1b35",
   "metadata": {},
   "outputs": [
    {
     "name": "stdout",
     "output_type": "stream",
     "text": [
      "53986.875\n",
      "53986.875\n"
     ]
    }
   ],
   "source": [
    "#If we add mean value in null place it will get work done\n",
    "# and also doesnot affects the exisiting dataset\n",
    "print(data['SALARY'].mean())\n",
    "data['SALARY']=data['SALARY'].replace(np.nan,53986.875)\n",
    "print(data['SALARY'].mean())"
   ]
  },
  {
   "cell_type": "code",
   "execution_count": 21,
   "id": "59063a53-3499-4bbd-9c9f-d23be34e1dba",
   "metadata": {},
   "outputs": [
    {
     "name": "stdout",
     "output_type": "stream",
     "text": [
      "   S.N     NAME      SALARY         PHONE\n",
      "0    1    Bimal   50000.000  9.800000e+09\n",
      "1    2   Sedeep    5000.000  9.804786e+09\n",
      "2    3    samir   40000.000           NaN\n",
      "3    4    kisna   50090.000  4.785744e+06\n",
      "4    5    BImal   53986.875  9.571488e+06\n",
      "5    6  ranjeet   36805.000  1.435723e+07\n",
      "6    7   subash  100000.000  1.914298e+07\n",
      "7    8    Bimal  120000.000  9.800000e+09\n",
      "8    9  niramla   30000.000  9.804786e+09\n"
     ]
    }
   ],
   "source": [
    "print(data)"
   ]
  },
  {
   "cell_type": "code",
   "execution_count": 29,
   "id": "76c2c703-9935-4773-b500-5a5f9cf55abb",
   "metadata": {},
   "outputs": [
    {
     "name": "stdout",
     "output_type": "stream",
     "text": [
      "   S.N     NAME      SALARY         PHONE\n",
      "0    1    Bimal   50000.000  9.800000e+09\n",
      "1    2   Sedeep    5000.000  9.804786e+09\n",
      "2    3    samir   40000.000  4.785744e+06\n",
      "3    4    kisna   50090.000  4.785744e+06\n",
      "4    5    BImal   53986.875  9.571488e+06\n",
      "5    6  ranjeet   36805.000  1.435723e+07\n",
      "6    7   subash  100000.000  1.914298e+07\n",
      "7    8    Bimal  120000.000  9.800000e+09\n",
      "8    9  niramla   30000.000  9.804786e+09\n",
      "\n",
      "   S.N     NAME      SALARY         PHONE\n",
      "0    1    Bimal   50000.000  9.800000e+09\n",
      "1    2   Sedeep    5000.000  9.804786e+09\n",
      "2    3    samir   40000.000  4.785744e+06\n",
      "3    4    kisna   50090.000  4.785744e+06\n",
      "4    5    BImal   53986.875  9.571488e+06\n",
      "5    6  ranjeet   36805.000  1.435723e+07\n",
      "6    7   subash  100000.000  1.914298e+07\n",
      "7    8    Bimal  120000.000  9.800000e+09\n",
      "8    9  niramla   30000.000  9.804786e+09\n"
     ]
    },
    {
     "name": "stderr",
     "output_type": "stream",
     "text": [
      "C:\\Users\\bimal\\AppData\\Local\\Temp\\ipykernel_10588\\4166030834.py:3: FutureWarning: DataFrame.fillna with 'method' is deprecated and will raise in a future version. Use obj.ffill() or obj.bfill() instead.\n",
      "  print(data.fillna(method='bfill'))\n"
     ]
    }
   ],
   "source": [
    "#backwardfill\n",
    "#fills the null from lower row element\n",
    "print(data.fillna(method='bfill'))\n",
    "\n",
    "print()\n",
    "#also we can write\n",
    "print(data.bfill())"
   ]
  },
  {
   "cell_type": "code",
   "execution_count": 28,
   "id": "1fb42061-0f52-4945-b430-fc2df4eebce8",
   "metadata": {},
   "outputs": [
    {
     "name": "stdout",
     "output_type": "stream",
     "text": [
      "   S.N     NAME      SALARY         PHONE\n",
      "0    1    Bimal   50000.000  9.800000e+09\n",
      "1    2   Sedeep    5000.000  9.804786e+09\n",
      "2    3    samir   40000.000  9.804786e+09\n",
      "3    4    kisna   50090.000  4.785744e+06\n",
      "4    5    BImal   53986.875  9.571488e+06\n",
      "5    6  ranjeet   36805.000  1.435723e+07\n",
      "6    7   subash  100000.000  1.914298e+07\n",
      "7    8    Bimal  120000.000  9.800000e+09\n",
      "8    9  niramla   30000.000  9.804786e+09\n",
      "\n",
      "   S.N     NAME      SALARY         PHONE\n",
      "0    1    Bimal   50000.000  9.800000e+09\n",
      "1    2   Sedeep    5000.000  9.804786e+09\n",
      "2    3    samir   40000.000  9.804786e+09\n",
      "3    4    kisna   50090.000  4.785744e+06\n",
      "4    5    BImal   53986.875  9.571488e+06\n",
      "5    6  ranjeet   36805.000  1.435723e+07\n",
      "6    7   subash  100000.000  1.914298e+07\n",
      "7    8    Bimal  120000.000  9.800000e+09\n",
      "8    9  niramla   30000.000  9.804786e+09\n"
     ]
    },
    {
     "name": "stderr",
     "output_type": "stream",
     "text": [
      "C:\\Users\\bimal\\AppData\\Local\\Temp\\ipykernel_10588\\1021507398.py:3: FutureWarning: DataFrame.fillna with 'method' is deprecated and will raise in a future version. Use obj.ffill() or obj.bfill() instead.\n",
      "  print(data.fillna(method='ffill'))\n"
     ]
    }
   ],
   "source": [
    "#Forwardfill\n",
    "#fills the null from upper row element\n",
    "print(data.fillna(method='ffill'))\n",
    "print()\n",
    "#also can write\n",
    "print(data.ffill())"
   ]
  }
 ],
 "metadata": {
  "kernelspec": {
   "display_name": "Python 3 (ipykernel)",
   "language": "python",
   "name": "python3"
  },
  "language_info": {
   "codemirror_mode": {
    "name": "ipython",
    "version": 3
   },
   "file_extension": ".py",
   "mimetype": "text/x-python",
   "name": "python",
   "nbconvert_exporter": "python",
   "pygments_lexer": "ipython3",
   "version": "3.11.9"
  }
 },
 "nbformat": 4,
 "nbformat_minor": 5
}
