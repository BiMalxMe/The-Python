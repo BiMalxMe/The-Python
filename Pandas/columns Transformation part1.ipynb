{
 "cells": [
  {
   "cell_type": "code",
   "execution_count": 1,
   "id": "fbae6aed-a575-474d-b75e-f03575bd2280",
   "metadata": {},
   "outputs": [
    {
     "name": "stdout",
     "output_type": "stream",
     "text": [
      "   Bonus % Country       City  Exit Date\n",
      "0     0.15      US   New york 2021-10-16\n",
      "1     0.00   China    Beijing        NaT\n",
      "2     0.20      US      Texas        NaT\n",
      "3     0.07      US    Chicago        NaT\n",
      "4     0.00   Nepal  kathmandu        NaT\n"
     ]
    }
   ],
   "source": [
    "import pandas as pd\n",
    "data=pd.read_excel('Bonus_sheet.xlsx')\n",
    "print(data)"
   ]
  },
  {
   "cell_type": "code",
   "execution_count": null,
   "id": "c6f68dda-fdf9-4b4a-9024-453a996855cc",
   "metadata": {},
   "outputs": [
    {
     "name": "stdout",
     "output_type": "stream",
     "text": [
      "   Bonus % Country       City  Exit Date  GetBonus GettBonus\n",
      "0     0.15      US   New york 2021-10-16     bonus     bonus\n",
      "1     0.00   China    Beijing        NaT  no bonus       NaN\n",
      "2     0.20      US      Texas        NaT     bonus     bonus\n",
      "3     0.07      US    Chicago        NaT     bonus     bonus\n",
      "4     0.00   Nepal  kathmandu        NaT  no bonus       NaN\n"
     ]
    }
   ],
   "source": [
    "#if bonus is 0 then new column named GetBonus is made \n",
    "#and values are assigned simultaneously\n",
    "data.loc[(data['Bonus %']==0,'GetBonus')]='no bonus'\n",
    "data.loc[(data['Bonus %']>0,'GetBonus')]='bonus'\n",
    "print(data)"
   ]
  },
  {
   "cell_type": "code",
   "execution_count": 38,
   "id": "0d165320-0508-46fb-8516-d430f9966219",
   "metadata": {},
   "outputs": [
    {
     "name": "stdout",
     "output_type": "stream",
     "text": [
      "  emp id    Fname     Lname\n",
      "0   Emp1     hari  parajuli\n",
      "1   Emp2    seeta   chalise\n",
      "2   Emp3  balaram    sharma\n",
      "3   Emp4    aurag  srinivas\n",
      "\n",
      "  emp id    Fname     Lname        Fullname\n",
      "0   Emp1     hari  parajuli   HARI PARAJULI\n",
      "1   Emp2    seeta   chalise   SEETA CHALISE\n",
      "2   Emp3  balaram    sharma  BALARAM SHARMA\n",
      "3   Emp4    aurag  srinivas  AURAG SRINIVAS\n"
     ]
    }
   ],
   "source": [
    "#new data set\n",
    "data=pd.read_excel('name.xlsx')\n",
    "print(data)\n",
    "print()\n",
    "#Making new column named Full Name where fname and lname are \n",
    "#  concatenated\n",
    "\n",
    "#.str.upper()==> Makes the string in the data in Upper case\n",
    "data['Fullname']=data['Fname'].str.upper()+' '+data['Lname'].str.upper()\n",
    "\n",
    "print(data)"
   ]
  }
 ],
 "metadata": {
  "kernelspec": {
   "display_name": "Python 3 (ipykernel)",
   "language": "python",
   "name": "python3"
  },
  "language_info": {
   "codemirror_mode": {
    "name": "ipython",
    "version": 3
   },
   "file_extension": ".py",
   "mimetype": "text/x-python",
   "name": "python",
   "nbconvert_exporter": "python",
   "pygments_lexer": "ipython3",
   "version": "3.11.9"
  }
 },
 "nbformat": 4,
 "nbformat_minor": 5
}
