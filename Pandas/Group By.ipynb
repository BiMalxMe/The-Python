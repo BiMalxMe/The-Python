{
 "cells": [
  {
   "cell_type": "code",
   "execution_count": 4,
   "id": "2205f350-d0ac-470e-ba4f-d7ba7bb6e710",
   "metadata": {},
   "outputs": [
    {
     "name": "stdout",
     "output_type": "stream",
     "text": [
      "     Fname     Lname  salary emp id\n",
      "0     hari  parajuli   40000   Emp1\n",
      "1    seeta   chalise   50000   Emp2\n",
      "2  balaram    sharma   34000   Emp3\n",
      "3    aurag  srinivas   27000   Emp4\n"
     ]
    }
   ],
   "source": [
    "import pandas as pd # type: ignore\n",
    "data=pd.read_excel('name2.xlsx')\n",
    "print(data)"
   ]
  },
  {
   "cell_type": "code",
   "execution_count": 14,
   "id": "5a4d3d3b-3eab-48cd-bcb0-0e7eee1dcad5",
   "metadata": {},
   "outputs": [
    {
     "name": "stdout",
     "output_type": "stream",
     "text": [
      "        salary\n",
      "emp id        \n",
      "Emp1         1\n",
      "Emp2         1\n",
      "Emp3         1\n",
      "Emp4         1\n"
     ]
    }
   ],
   "source": [
    "#Gives count of salary on the base of emp id\n",
    "gp=data.groupby('emp id').agg({\"salary\":'count'})\n",
    "print(gp)"
   ]
  },
  {
   "cell_type": "code",
   "execution_count": 17,
   "id": "144a0b54-a8a1-4bf9-9ef5-017318192e6d",
   "metadata": {},
   "outputs": [
    {
     "name": "stdout",
     "output_type": "stream",
     "text": [
      "    OrderDate   Region  Manager   SalesMan          Item   Units  Unit_price  \\\n",
      "0  2018-01-06     East   Martha  Alexander    Television   95.00    1198.000   \n",
      "1  2018-01-23  Central  Hermann     Shelli  Home Theater   50.00     500.000   \n",
      "2  2018-02-09  Central  Hermann       Luis    Television   36.00    1198.000   \n",
      "3  2018-02-26  Central  Timothy      David    Cell Phone   27.00     225.000   \n",
      "4  2018-03-15     West  Timothy    Stephen    Television   56.00    1198.000   \n",
      "5  2018-04-01     East   Martha  Alexander  Home Theater   60.00     500.000   \n",
      "6  2018-04-18  Central   Martha     Steven    Television   75.00    1198.000   \n",
      "7  2018-05-05  Central  Hermann       Luis    Television   90.00    1198.000   \n",
      "8  2018-05-22     West  Douglas    Michael    Television   32.00    1198.000   \n",
      "9  2018-06-08     East   Martha  Alexander  Home Theater   60.00     500.000   \n",
      "10 2018-06-25  Central  Hermann      Sigal    Television   90.00    1198.000   \n",
      "11 2018-07-12     East   Martha      Diana  Home Theater   29.00     500.000   \n",
      "12 2018-07-29     East  Douglas      Karen  Home Theater   81.00     500.000   \n",
      "13 2018-08-15     East   Martha  Alexander    Television   35.00    1198.000   \n",
      "14 2018-09-01  Central  Douglas       John          Desk    2.00     125.000   \n",
      "15 2018-09-18     East   Martha  Alexander   Video Games   16.00      58.500   \n",
      "16 2018-10-05  Central  Hermann      Sigal  Home Theater   28.00     500.000   \n",
      "17 2018-10-22     East   Martha  Alexander    Cell Phone   64.00     225.000   \n",
      "18 2018-11-08     East  Douglas      Karen    Cell Phone   15.00     225.000   \n",
      "19 2018-11-25  Central  Hermann     Shelli   Video Games   96.00      58.500   \n",
      "20 2018-12-12  Central  Douglas       John    Television   67.00    1198.000   \n",
      "21 2018-12-29     East  Douglas      Karen   Video Games   74.00      58.500   \n",
      "22 2019-01-15  Central  Timothy      David  Home Theater   46.00     500.000   \n",
      "23 2019-02-01  Central  Douglas       John  Home Theater   87.00     500.000   \n",
      "24 2019-02-18     East   Martha  Alexander  Home Theater    4.00     500.000   \n",
      "25 2019-03-07     West  Timothy    Stephen  Home Theater    7.00     500.000   \n",
      "26 2019-03-24  Central  Hermann       Luis   Video Games   50.00      58.500   \n",
      "27 2019-04-10  Central   Martha     Steven    Television   66.00    1198.000   \n",
      "28 2019-04-27     East   Martha      Diana    Cell Phone   96.00     225.000   \n",
      "29 2019-05-14  Central  Timothy      David    Television   53.00    1198.000   \n",
      "30 2019-05-31  Central  Timothy      David  Home Theater   80.00     500.000   \n",
      "31 2019-06-17  Central  Hermann     Shelli          Desk    5.00     125.000   \n",
      "32 2019-07-04     East   Martha  Alexander   Video Games   62.00      58.500   \n",
      "33 2019-07-21  Central  Hermann      Sigal   Video Games   55.00      58.500   \n",
      "34 2019-08-07  Central  Hermann     Shelli   Video Games   42.00      58.500   \n",
      "35 2019-08-24     West  Timothy    Stephen          Desk    3.00     125.000   \n",
      "36 2019-09-10  Central  Timothy      David    Television    7.00    1198.000   \n",
      "37 2019-09-27     West  Timothy    Stephen    Cell Phone   76.00     225.000   \n",
      "38 2019-10-14     West  Douglas    Michael  Home Theater   57.00     500.000   \n",
      "39 2019-10-31  Central   Martha     Steven    Television   14.00    1198.000   \n",
      "40 2019-11-17  Central  Hermann       Luis  Home Theater   11.00     500.000   \n",
      "41 2019-12-04  Central  Hermann       Luis  Home Theater   94.00     500.000   \n",
      "42 2019-12-21  Central   Martha     Steven  Home Theater   28.00     500.000   \n",
      "43        NaT      NaN      NaN        NaN           NaN  278.00    1125.000   \n",
      "44        NaT      NaN      NaN        NaN           NaN   34.75     140.625   \n",
      "\n",
      "     Sale_amt  \n",
      "0   113810.00  \n",
      "1    25000.00  \n",
      "2    43128.00  \n",
      "3     6075.00  \n",
      "4    67088.00  \n",
      "5    30000.00  \n",
      "6    89850.00  \n",
      "7   107820.00  \n",
      "8    38336.00  \n",
      "9    30000.00  \n",
      "10  107820.00  \n",
      "11   14500.00  \n",
      "12   40500.00  \n",
      "13   41930.00  \n",
      "14     250.00  \n",
      "15     936.00  \n",
      "16   14000.00  \n",
      "17   14400.00  \n",
      "18    3375.00  \n",
      "19    5616.00  \n",
      "20   80266.00  \n",
      "21    4329.00  \n",
      "22   23000.00  \n",
      "23   43500.00  \n",
      "24    2000.00  \n",
      "25    3500.00  \n",
      "26    2925.00  \n",
      "27   79068.00  \n",
      "28   21600.00  \n",
      "29   63494.00  \n",
      "30   40000.00  \n",
      "31     625.00  \n",
      "32    3627.00  \n",
      "33    3217.50  \n",
      "34    2457.00  \n",
      "35     375.00  \n",
      "36    8386.00  \n",
      "37   17100.00  \n",
      "38   28500.00  \n",
      "39   16772.00  \n",
      "40    5500.00  \n",
      "41   47000.00  \n",
      "42   14000.00  \n",
      "43   62550.00  \n",
      "44    7818.75  \n"
     ]
    }
   ],
   "source": [
    "data=pd.read_excel('SaleData.xlsx')\n",
    "print(data)"
   ]
  },
  {
   "cell_type": "code",
   "execution_count": null,
   "id": "99a6faae-e1dd-44c8-b9e1-636e7a7eb663",
   "metadata": {},
   "outputs": [],
   "source": []
  },
  {
   "cell_type": "code",
   "execution_count": 26,
   "id": "609f2a70-d173-40cf-a2fe-c747eb5627a6",
   "metadata": {},
   "outputs": [
    {
     "name": "stdout",
     "output_type": "stream",
     "text": [
      "         Units\n",
      "Region        \n",
      "Central     24\n",
      "East        13\n",
      "West         6\n"
     ]
    }
   ],
   "source": [
    "#Data calculated for the units sold on the basis of Region \n",
    "gb=data.groupby(['Region']).agg({'Units':'count'})\n",
    "print(gb)"
   ]
  },
  {
   "cell_type": "code",
   "execution_count": 27,
   "id": "3364ae37-6f41-4b0b-b773-28f5abeb9016",
   "metadata": {},
   "outputs": [
    {
     "name": "stdout",
     "output_type": "stream",
     "text": [
      "                 Units\n",
      "Region  Manager       \n",
      "Central Douglas      3\n",
      "        Hermann     12\n",
      "        Martha       4\n",
      "        Timothy      5\n",
      "East    Douglas      3\n",
      "        Martha      10\n",
      "West    Douglas      2\n",
      "        Timothy      4\n"
     ]
    }
   ],
   "source": [
    "#Region further divided into Managers to covers units of each manager \n",
    "gb=data.groupby(['Region','Manager']).agg({'Units':'count'})\n",
    "print(gb)"
   ]
  },
  {
   "cell_type": "code",
   "execution_count": 29,
   "id": "98ff1b37-fc99-46ae-86b8-75788f77f1f2",
   "metadata": {},
   "outputs": [
    {
     "name": "stdout",
     "output_type": "stream",
     "text": [
      "                           Units\n",
      "Region  Manager SalesMan        \n",
      "Central Douglas John           3\n",
      "        Hermann Luis           5\n",
      "                Shelli         4\n",
      "                Sigal          3\n",
      "        Martha  Steven         4\n",
      "        Timothy David          5\n",
      "East    Douglas Karen          3\n",
      "        Martha  Alexander      8\n",
      "                Diana          2\n",
      "West    Douglas Michael        2\n",
      "        Timothy Stephen        4\n"
     ]
    }
   ],
   "source": [
    "#Futher classified on the basis of Salesman\n",
    "gb=data.groupby(['Region','Manager','SalesMan']).agg({'Units':'count'})\n",
    "print(gb)"
   ]
  },
  {
   "cell_type": "code",
   "execution_count": 30,
   "id": "10f5f7ff-4d8c-453a-bacd-6c309cbad8d3",
   "metadata": {},
   "outputs": [
    {
     "name": "stdout",
     "output_type": "stream",
     "text": [
      "                               Units\n",
      "Region  Manager SalesMan            \n",
      "Central Douglas John       52.000000\n",
      "        Hermann Luis       56.200000\n",
      "                Shelli     48.250000\n",
      "                Sigal      57.666667\n",
      "        Martha  Steven     45.750000\n",
      "        Timothy David      42.600000\n",
      "East    Douglas Karen      56.666667\n",
      "        Martha  Alexander  49.500000\n",
      "                Diana      62.500000\n",
      "West    Douglas Michael    44.500000\n",
      "        Timothy Stephen    35.500000\n"
     ]
    }
   ],
   "source": [
    "#Finding out the mean based on following areas\n",
    "gb=data.groupby(['Region','Manager','SalesMan']).agg({'Units':'mean'})\n",
    "print(gb)\n",
    "#we can use other mathematical functions in the place of \"mean\""
   ]
  },
  {
   "cell_type": "code",
   "execution_count": 35,
   "id": "defd657d-72a5-4ad2-9b34-9bc71f5a7188",
   "metadata": {},
   "outputs": [
    {
     "name": "stdout",
     "output_type": "stream",
     "text": [
      "                          Units Unit_price       \n",
      "                            min        max    min\n",
      "Region  Manager SalesMan                         \n",
      "Central Douglas John        2.0     1198.0  125.0\n",
      "        Hermann Luis       11.0     1198.0   58.5\n",
      "                Shelli      5.0      500.0   58.5\n",
      "                Sigal      28.0     1198.0   58.5\n",
      "        Martha  Steven     14.0     1198.0  500.0\n",
      "        Timothy David       7.0     1198.0  225.0\n",
      "East    Douglas Karen      15.0      500.0   58.5\n",
      "        Martha  Alexander   4.0     1198.0   58.5\n",
      "                Diana      29.0      500.0  225.0\n",
      "West    Douglas Michael    32.0     1198.0  500.0\n",
      "        Timothy Stephen     3.0     1198.0  125.0\n"
     ]
    }
   ],
   "source": [
    "#using multiple elements inside a  dictionary\n",
    "gb=data.groupby(['Region','Manager','SalesMan']).agg({'Units':'min','Unit_price':['max','min']})\n",
    "print(gb)"
   ]
  }
 ],
 "metadata": {
  "kernelspec": {
   "display_name": "Python 3 (ipykernel)",
   "language": "python",
   "name": "python3"
  },
  "language_info": {
   "codemirror_mode": {
    "name": "ipython",
    "version": 3
   },
   "file_extension": ".py",
   "mimetype": "text/x-python",
   "name": "python",
   "nbconvert_exporter": "python",
   "pygments_lexer": "ipython3",
   "version": "3.12.4"
  }
 },
 "nbformat": 4,
 "nbformat_minor": 5
}
