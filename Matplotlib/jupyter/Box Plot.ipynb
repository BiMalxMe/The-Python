{
 "cells": [
  {
   "cell_type": "code",
   "execution_count": 6,
   "id": "90f93259-d08b-42a6-a94d-1efc1c517261",
   "metadata": {},
   "outputs": [
    {
     "data": {
      "image/png": "[encoded data removed]",
      "text/plain": [
       "<Figure size 640x480 with 1 Axes>"
      ]
     },
     "metadata": {},
     "output_type": "display_data"
    }
   ],
   "source": [
    "import matplotlib.pyplot as plt\n",
    "data=[1,3,5,7,9,15,34]\n",
    "plt.boxplot(data)\n",
    "plt.show()\n",
    "#otlier=='o' index on top of the chart\n",
    "#max,q3,median,q1,min simultaneously vertically"
   ]
  },
  {
   "cell_type": "code",
   "execution_count": 7,
   "id": "31a40b0a-c838-4d39-a411-7fa3ecac26e6",
   "metadata": {},
   "outputs": [
    {
     "data": {
      "image/png": "[encoded data removed]",
      "text/plain": [
       "<Figure size 640x480 with 1 Axes>"
      ]
     },
     "metadata": {},
     "output_type": "display_data"
    }
   ],
   "source": [
    "#we can print multiple box plots at a time\n",
    "data1=[1,3,5,7,9,15,34]\n",
    "data2=[1,7,14,24,19,44]\n",
    "data=[data1,data2]\n",
    "plt.boxplot(data)\n",
    "plt.show()"
   ]
  },
  {
   "cell_type": "code",
   "execution_count": 9,
   "id": "5c2ef423-26d6-47e6-89db-cb18593a4f2c",
   "metadata": {},
   "outputs": [
    {
     "name": "stdout",
     "output_type": "stream",
     "text": [
      "    OrderDate   Region  Manager   SalesMan          Item   Units  Unit_price   Sale_amt\n",
      "0  2018-01-06     East   Martha  Alexander    Television   95.00    1198.000  113810.00\n",
      "1  2018-01-23  Central  Hermann     Shelli  Home Theater   50.00     500.000   25000.00\n",
      "2  2018-02-09  Central  Hermann       Luis    Television   36.00    1198.000   43128.00\n",
      "3  2018-02-26  Central  Timothy      David    Cell Phone   27.00     225.000    6075.00\n",
      "4  2018-03-15     West  Timothy    Stephen    Television   56.00    1198.000   67088.00\n",
      "5  2018-04-01     East   Martha  Alexander  Home Theater   60.00     500.000   30000.00\n",
      "6  2018-04-18  Central   Martha     Steven    Television   75.00    1198.000   89850.00\n",
      "7  2018-05-05  Central  Hermann       Luis    Television   90.00    1198.000  107820.00\n",
      "8  2018-05-22     West  Douglas    Michael    Television   32.00    1198.000   38336.00\n",
      "9  2018-06-08     East   Martha  Alexander  Home Theater   60.00     500.000   30000.00\n",
      "10 2018-06-25  Central  Hermann      Sigal    Television   90.00    1198.000  107820.00\n",
      "11 2018-07-12     East   Martha      Diana  Home Theater   29.00     500.000   14500.00\n",
      "12 2018-07-29     East  Douglas      Karen  Home Theater   81.00     500.000   40500.00\n",
      "13 2018-08-15     East   Martha  Alexander    Television   35.00    1198.000   41930.00\n",
      "14 2018-09-01  Central  Douglas       John          Desk    2.00     125.000     250.00\n",
      "15 2018-09-18     East   Martha  Alexander   Video Games   16.00      58.500     936.00\n",
      "16 2018-10-05  Central  Hermann      Sigal  Home Theater   28.00     500.000   14000.00\n",
      "17 2018-10-22     East   Martha  Alexander    Cell Phone   64.00     225.000   14400.00\n",
      "18 2018-11-08     East  Douglas      Karen    Cell Phone   15.00     225.000    3375.00\n",
      "19 2018-11-25  Central  Hermann     Shelli   Video Games   96.00      58.500    5616.00\n",
      "20 2018-12-12  Central  Douglas       John    Television   67.00    1198.000   80266.00\n",
      "21 2018-12-29     East  Douglas      Karen   Video Games   74.00      58.500    4329.00\n",
      "22 2019-01-15  Central  Timothy      David  Home Theater   46.00     500.000   23000.00\n",
      "23 2019-02-01  Central  Douglas       John  Home Theater   87.00     500.000   43500.00\n",
      "24 2019-02-18     East   Martha  Alexander  Home Theater    4.00     500.000    2000.00\n",
      "25 2019-03-07     West  Timothy    Stephen  Home Theater    7.00     500.000    3500.00\n",
      "26 2019-03-24  Central  Hermann       Luis   Video Games   50.00      58.500    2925.00\n",
      "27 2019-04-10  Central   Martha     Steven    Television   66.00    1198.000   79068.00\n",
      "28 2019-04-27     East   Martha      Diana    Cell Phone   96.00     225.000   21600.00\n",
      "29 2019-05-14  Central  Timothy      David    Television   53.00    1198.000   63494.00\n",
      "30 2019-05-31  Central  Timothy      David  Home Theater   80.00     500.000   40000.00\n",
      "31 2019-06-17  Central  Hermann     Shelli          Desk    5.00     125.000     625.00\n",
      "32 2019-07-04     East   Martha  Alexander   Video Games   62.00      58.500    3627.00\n",
      "33 2019-07-21  Central  Hermann      Sigal   Video Games   55.00      58.500    3217.50\n",
      "34 2019-08-07  Central  Hermann     Shelli   Video Games   42.00      58.500    2457.00\n",
      "35 2019-08-24     West  Timothy    Stephen          Desk    3.00     125.000     375.00\n",
      "36 2019-09-10  Central  Timothy      David    Television    7.00    1198.000    8386.00\n",
      "37 2019-09-27     West  Timothy    Stephen    Cell Phone   76.00     225.000   17100.00\n",
      "38 2019-10-14     West  Douglas    Michael  Home Theater   57.00     500.000   28500.00\n",
      "39 2019-10-31  Central   Martha     Steven    Television   14.00    1198.000   16772.00\n",
      "40 2019-11-17  Central  Hermann       Luis  Home Theater   11.00     500.000    5500.00\n",
      "41 2019-12-04  Central  Hermann       Luis  Home Theater   94.00     500.000   47000.00\n",
      "42 2019-12-21  Central   Martha     Steven  Home Theater   28.00     500.000   14000.00\n",
      "43        NaT      NaN      NaN        NaN           NaN  278.00    1125.000   62550.00\n",
      "44        NaT      NaN      NaN        NaN           NaN   34.75     140.625    7818.75\n"
     ]
    }
   ],
   "source": [
    "#fetching out the sample data\n",
    "import pandas as pd\n",
    "data=pd.read_excel('SaleData.xlsx')\n",
    "df=pd.DataFrame(data)\n",
    "Amt=df['']"
   ]
  }
 ],
 "metadata": {
  "kernelspec": {
   "display_name": "Python 3 (ipykernel)",
   "language": "python",
   "name": "python3"
  },
  "language_info": {
   "codemirror_mode": {
    "name": "ipython",
    "version": 3
   },
   "file_extension": ".py",
   "mimetype": "text/x-python",
   "name": "python",
   "nbconvert_exporter": "python",
   "pygments_lexer": "ipython3",
   "version": "3.12.4"
  }
 },
 "nbformat": 4,
 "nbformat_minor": 5
}
