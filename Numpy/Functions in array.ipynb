{
 "cells": [
  {
   "cell_type": "code",
   "execution_count": 10,
   "id": "25004c62-310d-41c2-8413-3d155d962519",
   "metadata": {},
   "outputs": [
    {
     "name": "stdout",
     "output_type": "stream",
     "text": [
      "[[ 90 110]\n",
      " [130 100]]\n",
      "[[ 90 110]\n",
      " [130 100]]\n"
     ]
    }
   ],
   "source": [
    "import numpy as np\n",
    "arr1=np.array([[30,40],[50,90]])\n",
    "arr2=np.array([[60,70],[80,10]])\n",
    "print(arr1+arr2)\n",
    "print(np.add(arr1,arr2))#prints using the numpy function"
   ]
  },
  {
   "cell_type": "code",
   "execution_count": 6,
   "id": "b998fd8e-18b3-43bb-9d28-b05b98bd2290",
   "metadata": {},
   "outputs": [
    {
     "name": "stdout",
     "output_type": "stream",
     "text": [
      "[[-30 -30]\n",
      " [-30  80]]\n",
      "[[-30 -30]\n",
      " [-30  80]]\n"
     ]
    }
   ],
   "source": [
    "arr1=np.array([[30,40],[50,90]])\n",
    "arr2=np.array([[60,70],[80,10]])\n",
    "print(arr1-arr2)\n",
    "print(np.subtract(arr1,arr2))#prints using the numpy function"
   ]
  },
  {
   "cell_type": "code",
   "execution_count": 7,
   "id": "81545194-7ec2-4844-8b7d-b4751eed87aa",
   "metadata": {},
   "outputs": [
    {
     "name": "stdout",
     "output_type": "stream",
     "text": [
      "[[1800 2800]\n",
      " [4000  900]]\n",
      "[[0.5        0.57142857]\n",
      " [0.625      9.        ]]\n"
     ]
    }
   ],
   "source": [
    "arr1=np.array([[30,40],[50,90]])\n",
    "arr2=np.array([[60,70],[80,10]])\n",
    "print(arr1*arr2)\n",
    "print(np.divide(arr1,arr2))#prints using the numpy function"
   ]
  },
  {
   "cell_type": "code",
   "execution_count": 15,
   "id": "a7ad0094-1595-45af-af89-2c5466484008",
   "metadata": {},
   "outputs": [
    {
     "name": "stdout",
     "output_type": "stream",
     "text": [
      "[[0.5        0.57142857]\n",
      " [0.625      9.        ]]\n",
      "[[1800 2800]\n",
      " [4000  900]]\n"
     ]
    }
   ],
   "source": [
    "arr1=np.array([[30,40],[50,90]])\n",
    "arr2=np.array([[60,70],[80,10]])\n",
    "print(arr1/arr2)\n",
    "print(np.multiply(arr1,arr2))#prints using the numpy function"
   ]
  },
  {
   "cell_type": "code",
   "execution_count": 17,
   "id": "3303174a-c532-424a-b6a1-563434faeb67",
   "metadata": {},
   "outputs": [
    {
     "name": "stdout",
     "output_type": "stream",
     "text": [
      "[ 27000  64000 125000 729000]\n"
     ]
    }
   ],
   "source": [
    "arr1=np.array([30,40,50,90])\n",
    "arr2=np.array([3])\n",
    "print(np.power(arr1,arr2))"
   ]
  },
  {
   "cell_type": "code",
   "execution_count": 21,
   "id": "117d3ffc-cb8c-4345-8ffe-13e555ccd7ee",
   "metadata": {},
   "outputs": [
    {
     "name": "stdout",
     "output_type": "stream",
     "text": [
      "[4. 3. 2. 1.]\n"
     ]
    }
   ],
   "source": [
    "arr1=np.array([ 16,9,4,1])\n",
    "print(np.sqrt(arr1))"
   ]
  }
 ],
 "metadata": {
  "kernelspec": {
   "display_name": "Python 3 (ipykernel)",
   "language": "python",
   "name": "python3"
  },
  "language_info": {
   "codemirror_mode": {
    "name": "ipython",
    "version": 3
   },
   "file_extension": ".py",
   "mimetype": "text/x-python",
   "name": "python",
   "nbconvert_exporter": "python",
   "pygments_lexer": "ipython3",
   "version": "3.12.4"
  }
 },
 "nbformat": 4,
 "nbformat_minor": 5
}
