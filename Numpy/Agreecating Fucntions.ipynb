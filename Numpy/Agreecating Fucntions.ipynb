{
 "cells": [
  {
   "cell_type": "code",
   "execution_count": 13,
   "id": "03d23bc1-8394-49ee-8a47-7f30f6e8441f",
   "metadata": {},
   "outputs": [
    {
     "name": "stdout",
     "output_type": "stream",
     "text": [
      "347\n",
      "19\n",
      "83\n",
      "20608236000\n",
      "6\n",
      "57.833333333333336\n",
      "[ 66 110 193 212 272 347]\n",
      "[         66        2904      241032     4579608   274776480 20608236000]\n"
     ]
    }
   ],
   "source": [
    "import numpy as np\n",
    "a=np.array([66,44,83,19,60,75])\n",
    "#Adding all the elements of an array\n",
    "print(np.sum(a))\n",
    "print(np.min(a))\n",
    "print(np.max(a))\n",
    "print(np.prod(a))\n",
    "print(np.size(a))\n",
    "print(np.mean(a))\n",
    "#cummulative summ-adding upto a num\n",
    "print(np.cumsum(a))\n",
    "#cummulative product-multiplying upto a num\n",
    "print(np.cumprod(a))\n"
   ]
  },
  {
   "cell_type": "code",
   "execution_count": 28,
   "id": "c4fc5920-df03-4af8-b70a-855221c33d70",
   "metadata": {},
   "outputs": [
    {
     "name": "stdout",
     "output_type": "stream",
     "text": [
      "[[ 100  200  300  400  500]\n",
      " [ 100  400  900 1600 2500]]\n",
      "\n",
      "5500\n"
     ]
    }
   ],
   "source": [
    "price=np.array([100,200,300,400,500])\n",
    "quantity=np.array([1,2,3,4,5])\n",
    "# print(price,quantity)\n",
    "c=np.cumprod([price,quantity],axis=0)\n",
    "print(c)\n",
    "print()\n",
    "print(c[1].sum())"
   ]
  }
 ],
 "metadata": {
  "kernelspec": {
   "display_name": "Python 3 (ipykernel)",
   "language": "python",
   "name": "python3"
  },
  "language_info": {
   "codemirror_mode": {
    "name": "ipython",
    "version": 3
   },
   "file_extension": ".py",
   "mimetype": "text/x-python",
   "name": "python",
   "nbconvert_exporter": "python",
   "pygments_lexer": "ipython3",
   "version": "3.12.4"
  }
 },
 "nbformat": 4,
 "nbformat_minor": 5
}
