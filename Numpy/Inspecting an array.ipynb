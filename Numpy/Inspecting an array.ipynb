{
 "cells": [
  {
   "cell_type": "code",
   "execution_count": 14,
   "id": "c0ba0984-f96c-44e6-bde3-912b0a366657",
   "metadata": {},
   "outputs": [
    {
     "name": "stdout",
     "output_type": "stream",
     "text": [
      "[[30 40 50 60 70]\n",
      " [30 40 50 60 70]]\n",
      "(2, 5)\n",
      "2\n",
      "10\n",
      "<class 'numpy.ndarray'>\n",
      "int64\n",
      "[[30 40 50 60 70]\n",
      " [30 40 50 60 70]]\n"
     ]
    }
   ],
   "source": [
    "import numpy as np\n",
    "a=[[30,40,50,60,70],[30,40,50,60,70]]\n",
    "arr=np.array(a)\n",
    "print(arr)\n",
    "print(arr.shape)\n",
    "print(len(arr))\n",
    "print(np.size(arr))\n",
    "print(type(arr))\n",
    "print(arr.dtype)\n",
    "Converted=arr.astype(float)#Converts Into Float\n",
    "print(Converted.astype(int))# Aagain converts to int \n"
   ]
  }
 ],
 "metadata": {
  "kernelspec": {
   "display_name": "Python 3 (ipykernel)",
   "language": "python",
   "name": "python3"
  },
  "language_info": {
   "codemirror_mode": {
    "name": "ipython",
    "version": 3
   },
   "file_extension": ".py",
   "mimetype": "text/x-python",
   "name": "python",
   "nbconvert_exporter": "python",
   "pygments_lexer": "ipython3",
   "version": "3.12.4"
  }
 },
 "nbformat": 4,
 "nbformat_minor": 5
}
