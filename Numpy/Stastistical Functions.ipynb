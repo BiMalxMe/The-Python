{
 "cells": [
  {
   "cell_type": "code",
   "execution_count": 27,
   "id": "b55e4e29-8141-45f5-9a49-d722236302c4",
   "metadata": {},
   "outputs": [
    {
     "name": "stdout",
     "output_type": "stream",
     "text": [
      "179.28571428571428\n",
      "170.0\n",
      "200\n",
      "58.94480295936502\n",
      "3474.4897959183677\n"
     ]
    }
   ],
   "source": [
    "import numpy as np\n",
    "import statistics as stats\n",
    "baked_food=[200,300,150,130,200,170,105]\n",
    "a=np.array(baked_food)\n",
    "print(np.mean(baked_food))\n",
    "print(np.median(baked_food))#cental value after sorting\n",
    "#there is node mode function on numpy so we have \n",
    "#         to import statistics library\n",
    "print(stats.mode(baked_food))\n",
    "\n",
    "print(np.std(baked_food))\n",
    "print(np.var(baked_food))#variance=std**2"
   ]
  },
  {
   "cell_type": "code",
   "execution_count": 33,
   "id": "5a87b773-3d2d-4e1e-874d-5cfb537c250a",
   "metadata": {},
   "outputs": [
    {
     "name": "stdout",
     "output_type": "stream",
     "text": [
      "[[1.         0.96152395]\n",
      " [0.96152395 1.        ]]\n"
     ]
    }
   ],
   "source": [
    "tobaco=[10,40,20,50,30]\n",
    "death=[100,240,120,250,150]\n",
    "print(np.corrcoef([tobaco,death]))\n",
    "# -1 represents inversely proportional relationship\n",
    "# -1 represents proportional relationship\n",
    "#  0 represents no relationship\n"
   ]
  }
 ],
 "metadata": {
  "kernelspec": {
   "display_name": "Python 3 (ipykernel)",
   "language": "python",
   "name": "python3"
  },
  "language_info": {
   "codemirror_mode": {
    "name": "ipython",
    "version": 3
   },
   "file_extension": ".py",
   "mimetype": "text/x-python",
   "name": "python",
   "nbconvert_exporter": "python",
   "pygments_lexer": "ipython3",
   "version": "3.12.4"
  }
 },
 "nbformat": 4,
 "nbformat_minor": 5
}
