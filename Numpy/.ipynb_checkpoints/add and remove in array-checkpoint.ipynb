{
 "cells": [
  {
   "cell_type": "code",
   "execution_count": 16,
   "id": "aaf71682-9345-4391-a740-73b5680b6eaa",
   "metadata": {},
   "outputs": [
    {
     "name": "stdout",
     "output_type": "stream",
     "text": [
      "[ 55  74  44  66 100 200]\n"
     ]
    }
   ],
   "source": [
    "import numpy as np\n",
    "#adding items inside of array\n",
    "a=np.array([[55,74],[44,66]]) \n",
    "\n",
    "#Despite being array or nested array it prints all element as one array\n",
    "print(np.append(a,[100,200]))"
   ]
  },
  {
   "cell_type": "code",
   "execution_count": 18,
   "id": "b33a316d-f48b-4c86-8d8d-e64a4d179cf6",
   "metadata": {},
   "outputs": [
    {
     "name": "stdout",
     "output_type": "stream",
     "text": [
      "[55 74 44 66 70]\n"
     ]
    }
   ],
   "source": [
    "#insert(array,index,value)\n",
    "print(np.insert(a,4,70))"
   ]
  },
  {
   "cell_type": "code",
   "execution_count": 41,
   "id": "335190e5-12c2-4af4-b623-7f6290f1d393",
   "metadata": {},
   "outputs": [
    {
     "name": "stdout",
     "output_type": "stream",
     "text": [
      "[[55 74]\n",
      " [40 40]\n",
      " [44 66]]\n"
     ]
    }
   ],
   "source": [
    "print(np.insert(a,1,[40],axis=0))"
   ]
  },
  {
   "cell_type": "code",
   "execution_count": 49,
   "id": "d2ab97b7-586a-4694-a22d-ba4ba0619394",
   "metadata": {},
   "outputs": [
    {
     "name": "stdout",
     "output_type": "stream",
     "text": [
      "[[55 74]\n",
      " [44 66]]\n",
      "[[55 74]\n",
      " [70 70]\n",
      " [44 66]\n",
      " [70 70]]\n"
     ]
    }
   ],
   "source": [
    "#add value in multiple indexes\n",
    "print(a)\n",
    "print(np.insert(a,[1,2],[70],axis=0))"
   ]
  },
  {
   "cell_type": "code",
   "execution_count": 53,
   "id": "1c8a4e8c-87ca-4911-aafc-6592a2b1876a",
   "metadata": {},
   "outputs": [
    {
     "name": "stdout",
     "output_type": "stream",
     "text": [
      "[55 44 66]\n",
      "[55 66]\n"
     ]
    }
   ],
   "source": [
    "print(np.delete(a,1))\n",
    "print(np.delete(a,[1,2]))\n"
   ]
  }
 ],
 "metadata": {
  "kernelspec": {
   "display_name": "Python 3 (ipykernel)",
   "language": "python",
   "name": "python3"
  },
  "language_info": {
   "codemirror_mode": {
    "name": "ipython",
    "version": 3
   },
   "file_extension": ".py",
   "mimetype": "text/x-python",
   "name": "python",
   "nbconvert_exporter": "python",
   "pygments_lexer": "ipython3",
   "version": "3.12.4"
  }
 },
 "nbformat": 4,
 "nbformat_minor": 5
}
