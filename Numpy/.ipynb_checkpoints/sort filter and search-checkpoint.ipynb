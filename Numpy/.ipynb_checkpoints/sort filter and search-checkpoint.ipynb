{
 "cells": [
  {
   "cell_type": "code",
   "execution_count": 9,
   "id": "7510d8bf-58a4-4d0d-9008-6c5b6f2cdd32",
   "metadata": {},
   "outputs": [
    {
     "name": "stdout",
     "output_type": "stream",
     "text": [
      "[25 26 46 54 66 87]\n",
      "[[54 66]\n",
      " [25 87]\n",
      " [26 46]]\n"
     ]
    }
   ],
   "source": [
    "import numpy as np\n",
    "arr1=np.array([66,54,25,87,46,26])\n",
    "arr2=np.array([[66,54],[25,87],[46,26]])\n",
    "print(np.sort(arr1))\n",
    "print(np.sort(arr2))"
   ]
  },
  {
   "cell_type": "code",
   "execution_count": 14,
   "id": "bb6d4292-c0df-469a-8831-49b2260887cc",
   "metadata": {},
   "outputs": [
    {
     "name": "stdout",
     "output_type": "stream",
     "text": [
      "(array([0, 1, 4, 5]),)\n"
     ]
    }
   ],
   "source": [
    "#search\n",
    "ar=np.array([66,54,25,87,46,26])\n",
    "c=np.where(ar%2==0)\n",
    "#Gives/returns values in the form of indexes\n",
    "print(c)"
   ]
  },
  {
   "cell_type": "code",
   "execution_count": 16,
   "id": "956afaa7-9165-4f46-a9cf-4fa2fa16fe7c",
   "metadata": {},
   "outputs": [
    {
     "name": "stdout",
     "output_type": "stream",
     "text": [
      "3\n"
     ]
    }
   ],
   "source": [
    "#search-sorted---gives the indexes \n",
    "print(np.searchsorted(ar,87))"
   ]
  },
  {
   "cell_type": "code",
   "execution_count": 20,
   "id": "8118cc03-93a8-4250-95a0-fba4e721f580",
   "metadata": {},
   "outputs": [
    {
     "name": "stdout",
     "output_type": "stream",
     "text": [
      "[22]\n"
     ]
    }
   ],
   "source": [
    "#filtered arrays#1\n",
    "a=np.array([55,73,22,75,33])\n",
    "#gets only those values which are True\n",
    "fa=[False,False,True,False,False]\n",
    "#True values from \"a\" array\n",
    "print(a[fa])"
   ]
  },
  {
   "cell_type": "code",
   "execution_count": 26,
   "id": "9ab9f1e9-d0bd-4687-a8b0-7f09f77d5b03",
   "metadata": {},
   "outputs": [
    {
     "name": "stdout",
     "output_type": "stream",
     "text": [
      "[55 73 75]\n",
      "[73 75]\n",
      "[22]\n",
      "[55 73 75 33]\n"
     ]
    }
   ],
   "source": [
    "#filtered array--#2\n",
    "#(array[condition])\n",
    "print(a[a>35])\n",
    "print(a[a>70])\n",
    "print(a[a%2==0])\n",
    "print(a[a%2!=0])\n",
    "#values greater than 35 from the array \"a\" "
   ]
  }
 ],
 "metadata": {
  "kernelspec": {
   "display_name": "Python 3 (ipykernel)",
   "language": "python",
   "name": "python3"
  },
  "language_info": {
   "codemirror_mode": {
    "name": "ipython",
    "version": 3
   },
   "file_extension": ".py",
   "mimetype": "text/x-python",
   "name": "python",
   "nbconvert_exporter": "python",
   "pygments_lexer": "ipython3",
   "version": "3.12.4"
  }
 },
 "nbformat": 4,
 "nbformat_minor": 5
}
