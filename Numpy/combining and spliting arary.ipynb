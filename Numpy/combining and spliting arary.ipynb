{
 "cells": [
  {
   "cell_type": "code",
   "execution_count": 1,
   "id": "88654d48-d838-4710-94d5-c7780494dd96",
   "metadata": {},
   "outputs": [
    {
     "name": "stdout",
     "output_type": "stream",
     "text": [
      "[10, 29, 39, 78, 45, 10]\n"
     ]
    }
   ],
   "source": [
    "#in case of list they are automatically concatinated using + operator\n",
    "new_list1=[10,29,39]\n",
    "new_list2=[78,45,10]\n",
    "print(new_list1+new_list2)\n",
    "\n",
    "#But in array + operator adds the given arrays \n",
    "#soo............................................"
   ]
  },
  {
   "cell_type": "code",
   "execution_count": 13,
   "id": "acc77766-040d-4647-93cf-ae52c5593424",
   "metadata": {},
   "outputs": [
    {
     "name": "stdout",
     "output_type": "stream",
     "text": [
      "[[10 29]\n",
      " [39 60]\n",
      " [78 45]\n",
      " [10 50]]\n"
     ]
    }
   ],
   "source": [
    "#Concatination in arrayss\n",
    "import numpy as np\n",
    "arr1=np.array([[10,29],[39,60]])\n",
    "arr2=np.array([[78,45],[10,50]])\n",
    "print(np.concatenate([arr1,arr2]))"
   ]
  },
  {
   "cell_type": "code",
   "execution_count": 16,
   "id": "47bea0d7-4da4-4085-80b5-8a4a40a59088",
   "metadata": {},
   "outputs": [
    {
     "name": "stdout",
     "output_type": "stream",
     "text": [
      "[[10 29]\n",
      " [39 60]\n",
      " [78 45]\n",
      " [10 50]]\n",
      "[[10 29 78 45]\n",
      " [39 60 10 50]]\n"
     ]
    }
   ],
   "source": [
    "#printing the horizontal and vertical axis(axis=0 and axis=1)\n",
    "print(np.concatenate([arr1,arr2],axis=0))#horizontal concatenation\n",
    "print(np.concatenate([arr1,arr2],axis=1))#Vertical concatenation"
   ]
  },
  {
   "cell_type": "code",
   "execution_count": 17,
   "id": "a27ab4a7-e831-4dee-a255-36fee0611c2d",
   "metadata": {},
   "outputs": [
    {
     "name": "stdout",
     "output_type": "stream",
     "text": [
      "[[10 29 78 45]\n",
      " [39 60 10 50]]\n"
     ]
    }
   ],
   "source": [
    "#Alternative of horizontal concatenation\n",
    "print(np.hstack([arr1,arr2]))"
   ]
  },
  {
   "cell_type": "code",
   "execution_count": 18,
   "id": "9456d523-0040-4081-bf40-eed4e88ce33b",
   "metadata": {},
   "outputs": [
    {
     "name": "stdout",
     "output_type": "stream",
     "text": [
      "[[10 29]\n",
      " [39 60]\n",
      " [78 45]\n",
      " [10 50]]\n"
     ]
    }
   ],
   "source": [
    "#alternative of vertical concatenation\n",
    "print(np.vstack([arr1,arr2]))"
   ]
  },
  {
   "cell_type": "code",
   "execution_count": 29,
   "id": "649838ad-7fb2-4fd9-af2e-351527e997a3",
   "metadata": {},
   "outputs": [
    {
     "name": "stdout",
     "output_type": "stream",
     "text": [
      "[array([10, 29]), array([39, 78]), array([45, 10])]\n",
      "[39 78]\n"
     ]
    }
   ],
   "source": [
    "#spliting arrays\n",
    "a=np.array([10, 29, 39, 78, 45, 10])\n",
    "#storing value in split-val\n",
    "split_val=np.array_split(a,3)\n",
    "print(split_val)\n",
    "#among three elements of array prints index 1 element \n",
    "# i.e second element\n",
    "\n",
    "print(split_val[1])"
   ]
  },
  {
   "cell_type": "code",
   "execution_count": null,
   "id": "5cca5d17-c3de-4aff-b521-61f7dc8ce538",
   "metadata": {},
   "outputs": [],
   "source": []
  }
 ],
 "metadata": {
  "kernelspec": {
   "display_name": "Python 3 (ipykernel)",
   "language": "python",
   "name": "python3"
  },
  "language_info": {
   "codemirror_mode": {
    "name": "ipython",
    "version": 3
   },
   "file_extension": ".py",
   "mimetype": "text/x-python",
   "name": "python",
   "nbconvert_exporter": "python",
   "pygments_lexer": "ipython3",
   "version": "3.12.4"
  }
 },
 "nbformat": 4,
 "nbformat_minor": 5
}
